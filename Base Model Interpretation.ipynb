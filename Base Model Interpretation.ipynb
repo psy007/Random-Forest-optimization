{
 "cells": [
  {
   "cell_type": "markdown",
   "metadata": {},
   "source": [
    "# Getting back base model"
   ]
  },
  {
   "cell_type": "code",
   "execution_count": 62,
   "metadata": {},
   "outputs": [
    {
     "name": "stdout",
     "output_type": "stream",
     "text": [
      "None\n"
     ]
    }
   ],
   "source": [
    "import pickle\n",
    "import numpy as np\n",
    "\n",
    "\n",
    "with open('rfmodel.pkl', 'rb') as f:\n",
    "    rfmodel = pickle.load(f)\n",
    "with open(\"impdatabasemodel.pkl\",\"rb\")as f:\n",
    "    data = pickle.load(f)\n",
    "    \n",
    "print(data.get(\"test_labels\"))"
   ]
  },
  {
   "cell_type": "markdown",
   "metadata": {},
   "source": [
    "# Interpret Model Results"
   ]
  },
  {
   "cell_type": "code",
   "execution_count": 57,
   "metadata": {},
   "outputs": [],
   "source": [
    "# # Import tools needed for visualization\n",
    "# from sklearn.tree import export_graphviz\n",
    "# import pydot\n",
    "\n",
    "\n",
    "\n",
    "# # Pull out one tree from the forest\n",
    "# tree = rfmodel.estimators_[5]\n",
    "\n",
    "# # Export the image to a dot file\n",
    "# export_graphviz(tree, out_file = 'tree.dot', feature_names = data.get(\"feature_list\"), rounded = True, precision = 1)\n",
    "\n",
    "# # Use dot file to create a graph\n",
    "# (graph, ) = pydot.graph_from_dot_file('tree.dot')\n",
    "\n",
    "# # Write graph to a png file\n",
    "# graph.write_png('tree.png');"
   ]
  },
  {
   "cell_type": "markdown",
   "metadata": {},
   "source": [
    "# Variable Importances"
   ]
  },
  {
   "cell_type": "code",
   "execution_count": 58,
   "metadata": {},
   "outputs": [
    {
     "name": "stdout",
     "output_type": "stream",
     "text": [
      "Variable: temp_1               Importance: 0.66\n",
      "Variable: average              Importance: 0.15\n",
      "Variable: forecast_noaa        Importance: 0.05\n",
      "Variable: forecast_acc         Importance: 0.03\n",
      "Variable: day                  Importance: 0.02\n",
      "Variable: temp_2               Importance: 0.02\n",
      "Variable: forecast_under       Importance: 0.02\n",
      "Variable: friend               Importance: 0.02\n",
      "Variable: month                Importance: 0.01\n",
      "Variable: year                 Importance: 0.0\n",
      "Variable: week_Fri             Importance: 0.0\n",
      "Variable: week_Mon             Importance: 0.0\n",
      "Variable: week_Sat             Importance: 0.0\n",
      "Variable: week_Sun             Importance: 0.0\n",
      "Variable: week_Thurs           Importance: 0.0\n",
      "Variable: week_Tues            Importance: 0.0\n",
      "Variable: week_Wed             Importance: 0.0\n"
     ]
    }
   ],
   "source": [
    "# Get numerical feature importances\n",
    "importances = list(rfmodel.feature_importances_)\n",
    "\n",
    "# List of tuples with variable and importance\n",
    "feature_importances = [(feature, round(importance, 2)) for feature, importance in zip(data.get(\"feature_list\"), importances)]\n",
    "\n",
    "# Sort the feature importances by most important first\n",
    "feature_importances = sorted(feature_importances, key = lambda x: x[1], reverse = True)\n",
    "\n",
    "# Print out the feature and importances \n",
    "[print('Variable: {:20} Importance: {}'.format(*pair)) for pair in feature_importances];\n"
   ]
  },
  {
   "cell_type": "markdown",
   "metadata": {},
   "source": [
    "# Model with Two most important feature"
   ]
  },
  {
   "cell_type": "code",
   "execution_count": 63,
   "metadata": {},
   "outputs": [
    {
     "name": "stdout",
     "output_type": "stream",
     "text": [
      "None\n"
     ]
    },
    {
     "ename": "TypeError",
     "evalue": "unsupported operand type(s) for -: 'float' and 'NoneType'",
     "output_type": "error",
     "traceback": [
      "\u001b[0;31m---------------------------------------------------------------------------\u001b[0m",
      "\u001b[0;31mTypeError\u001b[0m                                 Traceback (most recent call last)",
      "\u001b[0;32m<ipython-input-63-f625139cab4e>\u001b[0m in \u001b[0;36m<module>\u001b[0;34m\u001b[0m\n\u001b[1;32m     16\u001b[0m \u001b[0mpredictions\u001b[0m \u001b[0;34m=\u001b[0m \u001b[0mrf_most_important\u001b[0m\u001b[0;34m.\u001b[0m\u001b[0mpredict\u001b[0m\u001b[0;34m(\u001b[0m\u001b[0mtest_important\u001b[0m\u001b[0;34m)\u001b[0m\u001b[0;34m\u001b[0m\u001b[0;34m\u001b[0m\u001b[0m\n\u001b[1;32m     17\u001b[0m \u001b[0;34m\u001b[0m\u001b[0m\n\u001b[0;32m---> 18\u001b[0;31m \u001b[0merrors\u001b[0m \u001b[0;34m=\u001b[0m \u001b[0mabs\u001b[0m\u001b[0;34m(\u001b[0m\u001b[0mpredictions\u001b[0m \u001b[0;34m-\u001b[0m \u001b[0mdata\u001b[0m\u001b[0;34m.\u001b[0m\u001b[0mget\u001b[0m\u001b[0;34m(\u001b[0m\u001b[0;34m\"test_labels\"\u001b[0m\u001b[0;34m)\u001b[0m\u001b[0;34m)\u001b[0m\u001b[0;34m\u001b[0m\u001b[0;34m\u001b[0m\u001b[0m\n\u001b[0m\u001b[1;32m     19\u001b[0m \u001b[0;34m\u001b[0m\u001b[0m\n\u001b[1;32m     20\u001b[0m \u001b[0;34m\u001b[0m\u001b[0m\n",
      "\u001b[0;31mTypeError\u001b[0m: unsupported operand type(s) for -: 'float' and 'NoneType'"
     ]
    }
   ],
   "source": [
    "\n",
    "from sklearn.ensemble import RandomForestRegressor\n",
    "# New random forest with only the two most important variables\n",
    "rf_most_important = RandomForestRegressor(n_estimators= 1000, random_state=42)\n",
    "print(data.get(\"test_labels\"))\n",
    "\n",
    "# Extract the two most important features\n",
    "important_indices = [data.get(\"feature_list\").index('temp_1'), data.get(\"feature_list\").index('average')]\n",
    "train_important = data.get(\"train_features\")[:, important_indices]\n",
    "test_important = data.get(\"test_features\")[:, important_indices]\n",
    "\n",
    "# Train the random forest\n",
    "rf_most_important.fit(train_important, data.get(\"train_labels\"))\n",
    "\n",
    "# Make predictions and determine the error\n",
    "predictions = rf_most_important.predict(test_important)\n",
    "\n",
    "errors = abs(predictions - data.get(\"test_labels\"))\n",
    "\n",
    "\n",
    "# Display the performance metrics\n",
    "print('Mean Absolute Error:', round(np.mean(errors), 2), 'degrees.')\n",
    "\n",
    "mape = np.mean(100 * (errors / data.get(\"test_labels\")))\n",
    "accuracy = 100 - mape\n",
    "\n",
    "print('Accuracy:', round(accuracy, 2), '%.')\n",
    "\n"
   ]
  },
  {
   "cell_type": "code",
   "execution_count": null,
   "metadata": {},
   "outputs": [],
   "source": []
  }
 ],
 "metadata": {
  "kernelspec": {
   "display_name": "Python 3",
   "language": "python",
   "name": "python3"
  },
  "language_info": {
   "codemirror_mode": {
    "name": "ipython",
    "version": 3
   },
   "file_extension": ".py",
   "mimetype": "text/x-python",
   "name": "python",
   "nbconvert_exporter": "python",
   "pygments_lexer": "ipython3",
   "version": "3.6.7"
  }
 },
 "nbformat": 4,
 "nbformat_minor": 2
}
